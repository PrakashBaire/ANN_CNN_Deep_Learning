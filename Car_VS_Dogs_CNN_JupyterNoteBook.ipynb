{
  "cells": [
    {
      "cell_type": "markdown",
      "metadata": {
        "id": "view-in-github",
        "colab_type": "text"
      },
      "source": [
        "<a href=\"https://colab.research.google.com/github/PrakashBaire/ANN_CNN_Deep_Learning/blob/main/Car_VS_Dogs_CNN_JupyterNoteBook.ipynb\" target=\"_parent\"><img src=\"https://colab.research.google.com/assets/colab-badge.svg\" alt=\"Open In Colab\"/></a>"
      ]
    },
    {
      "cell_type": "code",
      "execution_count": null,
      "id": "726fbcd7",
      "metadata": {
        "id": "726fbcd7"
      },
      "outputs": [],
      "source": [
        "import tensorflow as tf\n",
        "from tensorflow import keras\n",
        "from keras import Sequential\n",
        "from keras.layers import Dense, Conv2D, MaxPooling2D, Flatten\n",
        "\n",
        "\n",
        "#train_dir = 'C:\\Users\\praka\\OneDrive\\Documents\\ML_Practice\\dataset\\dataset\\training_set'http://localhost:8888/tree/OneDrive/Documents/ML_Practice/dataset/dataset/training_set\n",
        "#test_dir = 'C:\\Users\\praka\\OneDrive\\Documents\\ML_Practice\\dataset\\dataset\\test_set'"
      ]
    },
    {
      "cell_type": "code",
      "execution_count": null,
      "id": "0f5ee29e",
      "metadata": {
        "id": "0f5ee29e"
      },
      "outputs": [],
      "source": [
        "#train_dir = 'C:/Users/praka/OneDrive/Documents/ML_Practice/dataset/dataset/training_set'\n",
        "#test_dir = 'C:/Users/praka/OneDrive/Documents/ML_Practice/dataset/dataset/test_set'"
      ]
    },
    {
      "cell_type": "code",
      "execution_count": null,
      "id": "457c6741",
      "metadata": {
        "id": "457c6741",
        "outputId": "3efbd7c8-59d1-4a80-b7ba-633bd25976d1"
      },
      "outputs": [
        {
          "name": "stdout",
          "output_type": "stream",
          "text": [
            "Found 8000 files belonging to 2 classes.\n"
          ]
        }
      ],
      "source": [
        "train_ds = keras.utils.image_dataset_from_directory(\n",
        "    directory = 'C:/Users/praka/OneDrive/Documents/ML_Practice/dataset/dataset/training_set' ,\n",
        "    labels=\"inferred\",\n",
        "    label_mode=\"int\",\n",
        "    batch_size=32,\n",
        "    image_size=(64, 64),\n",
        ")\n"
      ]
    },
    {
      "cell_type": "code",
      "execution_count": null,
      "id": "c2766408",
      "metadata": {
        "id": "c2766408",
        "outputId": "dc2e42e1-ac8b-42f9-ce09-b9b5104ed215"
      },
      "outputs": [
        {
          "name": "stdout",
          "output_type": "stream",
          "text": [
            "Found 2000 files belonging to 2 classes.\n"
          ]
        }
      ],
      "source": [
        "validation_ds = keras.utils.image_dataset_from_directory(\n",
        "    directory = 'C:/Users/praka/OneDrive/Documents/ML_Practice/dataset/dataset/test_set' ,\n",
        "    labels=\"inferred\",\n",
        "    label_mode=\"int\",\n",
        "    batch_size=32,\n",
        "    image_size=(64, 64),\n",
        ")\n"
      ]
    },
    {
      "cell_type": "code",
      "execution_count": null,
      "id": "65f3b447",
      "metadata": {
        "id": "65f3b447"
      },
      "outputs": [],
      "source": [
        "#Normalization\n",
        "def process(image,label):\n",
        "    image = tf.cast(image/255. , tf.float32)\n",
        "    return image,label\n",
        "\n",
        "train_ds = train_ds.map(process)\n",
        "validation_ds = validation_ds.map(process)"
      ]
    },
    {
      "cell_type": "code",
      "execution_count": null,
      "id": "019d9edb",
      "metadata": {
        "id": "019d9edb"
      },
      "outputs": [],
      "source": [
        "cnn = tf.keras.models.Sequential()\n",
        "\n",
        "cnn.add(tf.keras.layers.Conv2D(filters=32, kernel_size=3, activation='relu', input_shape=[64, 64, 3]))\n",
        "\n",
        "cnn.add(tf.keras.layers.MaxPool2D(pool_size=2, strides=2))\n",
        "\n",
        "cnn.add(tf.keras.layers.Conv2D(filters=32, kernel_size=3, activation='relu'))\n",
        "cnn.add(tf.keras.layers.MaxPool2D(pool_size=2, strides=2))\n",
        "\n",
        "cnn.add(tf.keras.layers.Flatten())\n",
        "\n",
        "cnn.add(tf.keras.layers.Dense(units=128, activation='relu'))\n",
        "\n",
        "cnn.add(tf.keras.layers.Dense(units=1, activation='sigmoid'))\n",
        "\n"
      ]
    },
    {
      "cell_type": "code",
      "execution_count": null,
      "id": "56c17b7a",
      "metadata": {
        "id": "56c17b7a",
        "outputId": "327f9738-9250-42c1-dbc7-5c27367b4870"
      },
      "outputs": [
        {
          "name": "stdout",
          "output_type": "stream",
          "text": [
            "Model: \"sequential_2\"\n",
            "_________________________________________________________________\n",
            " Layer (type)                Output Shape              Param #   \n",
            "=================================================================\n",
            " conv2d_4 (Conv2D)           (None, 62, 62, 32)        896       \n",
            "                                                                 \n",
            " max_pooling2d_4 (MaxPooling  (None, 31, 31, 32)       0         \n",
            " 2D)                                                             \n",
            "                                                                 \n",
            " conv2d_5 (Conv2D)           (None, 29, 29, 32)        9248      \n",
            "                                                                 \n",
            " max_pooling2d_5 (MaxPooling  (None, 14, 14, 32)       0         \n",
            " 2D)                                                             \n",
            "                                                                 \n",
            " flatten_2 (Flatten)         (None, 6272)              0         \n",
            "                                                                 \n",
            " dense_4 (Dense)             (None, 128)               802944    \n",
            "                                                                 \n",
            " dense_5 (Dense)             (None, 1)                 129       \n",
            "                                                                 \n",
            "=================================================================\n",
            "Total params: 813,217\n",
            "Trainable params: 813,217\n",
            "Non-trainable params: 0\n",
            "_________________________________________________________________\n"
          ]
        }
      ],
      "source": [
        "cnn.summary()"
      ]
    },
    {
      "cell_type": "code",
      "execution_count": null,
      "id": "dad16e31",
      "metadata": {
        "id": "dad16e31"
      },
      "outputs": [],
      "source": [
        "cnn.compile(optimizer = 'adam', loss = 'binary_crossentropy', metrics = ['accuracy'])"
      ]
    },
    {
      "cell_type": "code",
      "execution_count": null,
      "id": "44c60a8c",
      "metadata": {
        "id": "44c60a8c",
        "outputId": "20c95338-1a44-4bbb-96d7-0e5439d99b8a"
      },
      "outputs": [
        {
          "name": "stdout",
          "output_type": "stream",
          "text": [
            "Epoch 1/25\n",
            "250/250 [==============================] - 40s 151ms/step - loss: 0.6218 - accuracy: 0.6611 - val_loss: 0.5696 - val_accuracy: 0.7140\n",
            "Epoch 2/25\n",
            "250/250 [==============================] - 39s 154ms/step - loss: 0.5445 - accuracy: 0.7301 - val_loss: 0.5338 - val_accuracy: 0.7375\n",
            "Epoch 3/25\n",
            "250/250 [==============================] - 40s 159ms/step - loss: 0.4994 - accuracy: 0.7571 - val_loss: 0.5064 - val_accuracy: 0.7620\n",
            "Epoch 4/25\n",
            "250/250 [==============================] - 38s 151ms/step - loss: 0.4563 - accuracy: 0.7831 - val_loss: 0.5111 - val_accuracy: 0.7575\n",
            "Epoch 5/25\n",
            "250/250 [==============================] - 39s 154ms/step - loss: 0.4229 - accuracy: 0.8026 - val_loss: 0.5044 - val_accuracy: 0.7705\n",
            "Epoch 6/25\n",
            "250/250 [==============================] - 38s 153ms/step - loss: 0.3858 - accuracy: 0.8235 - val_loss: 0.5481 - val_accuracy: 0.7460\n",
            "Epoch 7/25\n",
            "250/250 [==============================] - 39s 155ms/step - loss: 0.3474 - accuracy: 0.8441 - val_loss: 0.5268 - val_accuracy: 0.7670\n",
            "Epoch 8/25\n",
            "250/250 [==============================] - 40s 158ms/step - loss: 0.3149 - accuracy: 0.8634 - val_loss: 0.5649 - val_accuracy: 0.7690\n",
            "Epoch 9/25\n",
            "250/250 [==============================] - 36s 141ms/step - loss: 0.2718 - accuracy: 0.8819 - val_loss: 0.6186 - val_accuracy: 0.7610\n",
            "Epoch 10/25\n",
            "250/250 [==============================] - 33s 133ms/step - loss: 0.2386 - accuracy: 0.8995 - val_loss: 0.7156 - val_accuracy: 0.7440\n",
            "Epoch 11/25\n",
            "250/250 [==============================] - 34s 135ms/step - loss: 0.2049 - accuracy: 0.9174 - val_loss: 0.7421 - val_accuracy: 0.7495\n",
            "Epoch 12/25\n",
            "250/250 [==============================] - 36s 141ms/step - loss: 0.1673 - accuracy: 0.9356 - val_loss: 0.8528 - val_accuracy: 0.7370\n",
            "Epoch 13/25\n",
            "250/250 [==============================] - 31s 123ms/step - loss: 0.1457 - accuracy: 0.9449 - val_loss: 0.8512 - val_accuracy: 0.7445\n",
            "Epoch 14/25\n",
            "250/250 [==============================] - 33s 130ms/step - loss: 0.1190 - accuracy: 0.9574 - val_loss: 0.9280 - val_accuracy: 0.7480\n",
            "Epoch 15/25\n",
            "250/250 [==============================] - 30s 117ms/step - loss: 0.1025 - accuracy: 0.9644 - val_loss: 1.0058 - val_accuracy: 0.7500\n",
            "Epoch 16/25\n",
            "250/250 [==============================] - 30s 120ms/step - loss: 0.0954 - accuracy: 0.9661 - val_loss: 1.0122 - val_accuracy: 0.7470\n",
            "Epoch 17/25\n",
            "250/250 [==============================] - 30s 121ms/step - loss: 0.0623 - accuracy: 0.9809 - val_loss: 1.1346 - val_accuracy: 0.7445\n",
            "Epoch 18/25\n",
            "250/250 [==============================] - 31s 124ms/step - loss: 0.0434 - accuracy: 0.9886 - val_loss: 1.2351 - val_accuracy: 0.7400\n",
            "Epoch 19/25\n",
            "250/250 [==============================] - 31s 123ms/step - loss: 0.0616 - accuracy: 0.9799 - val_loss: 1.2012 - val_accuracy: 0.7460\n",
            "Epoch 20/25\n",
            "250/250 [==============================] - 30s 121ms/step - loss: 0.0399 - accuracy: 0.9898 - val_loss: 1.3887 - val_accuracy: 0.7360\n",
            "Epoch 21/25\n",
            "250/250 [==============================] - 32s 126ms/step - loss: 0.0381 - accuracy: 0.9891 - val_loss: 1.4124 - val_accuracy: 0.7395\n",
            "Epoch 22/25\n",
            "250/250 [==============================] - 31s 122ms/step - loss: 0.0469 - accuracy: 0.9830 - val_loss: 1.3689 - val_accuracy: 0.7440\n",
            "Epoch 23/25\n",
            "250/250 [==============================] - 30s 119ms/step - loss: 0.0298 - accuracy: 0.9910 - val_loss: 1.3965 - val_accuracy: 0.7525\n",
            "Epoch 24/25\n",
            "250/250 [==============================] - 30s 120ms/step - loss: 0.0183 - accuracy: 0.9956 - val_loss: 1.4507 - val_accuracy: 0.7510\n",
            "Epoch 25/25\n",
            "250/250 [==============================] - 30s 121ms/step - loss: 0.0260 - accuracy: 0.9930 - val_loss: 1.5772 - val_accuracy: 0.7395\n"
          ]
        }
      ],
      "source": [
        "history = cnn.fit(train_ds, validation_data = validation_ds, epochs = 25)"
      ]
    },
    {
      "cell_type": "code",
      "execution_count": null,
      "id": "f2fb21d4",
      "metadata": {
        "id": "f2fb21d4",
        "outputId": "bb9926bf-c454-4810-ded1-3d3b9b0bf5f0"
      },
      "outputs": [
        {
          "data": {
            "image/png": "[encoded data removed]",
            "text/plain": [
              "<Figure size 432x288 with 1 Axes>"
            ]
          },
          "metadata": {
            "needs_background": "light"
          },
          "output_type": "display_data"
        }
      ],
      "source": [
        "import matplotlib.pyplot as plt\n",
        "plt.plot(history.history['accuracy'], color = 'red', label = 'train')\n",
        "plt.plot(history.history['val_accuracy'], color = 'blue', label = 'validation')\n",
        "plt.legend()\n",
        "plt.show()"
      ]
    },
    {
      "cell_type": "code",
      "execution_count": null,
      "id": "7b4e8914",
      "metadata": {
        "id": "7b4e8914",
        "outputId": "0fb12e6d-0e12-401c-93c8-79972589b6c3"
      },
      "outputs": [
        {
          "data": {
            "image/png": "[encoded data removed]",
            "text/plain": [
              "<Figure size 432x288 with 1 Axes>"
            ]
          },
          "metadata": {
            "needs_background": "light"
          },
          "output_type": "display_data"
        }
      ],
      "source": [
        "plt.plot(history.history['loss'], color = 'red', label = 'train')\n",
        "plt.plot(history.history['val_loss'], color = 'blue', label = 'validation')\n",
        "plt.legend()\n",
        "plt.show()"
      ]
    }
  ],
  "metadata": {
    "kernelspec": {
      "display_name": "Python 3 (ipykernel)",
      "language": "python",
      "name": "python3"
    },
    "language_info": {
      "codemirror_mode": {
        "name": "ipython",
        "version": 3
      },
      "file_extension": ".py",
      "mimetype": "text/x-python",
      "name": "python",
      "nbconvert_exporter": "python",
      "pygments_lexer": "ipython3",
      "version": "3.8.10"
    },
    "colab": {
      "provenance": [],
      "include_colab_link": true
    }
  },
  "nbformat": 4,
  "nbformat_minor": 5
}