{
  "cells": [
    {
      "cell_type": "markdown",
      "metadata": {
        "id": "view-in-github",
        "colab_type": "text"
      },
      "source": [
        "<a href=\"https://colab.research.google.com/github/PrakashBaire/ANN_CNN_Deep_Learning/blob/main/Car_VS_Dogs_CNN_New.ipynb\" target=\"_parent\"><img src=\"https://colab.research.google.com/assets/colab-badge.svg\" alt=\"Open In Colab\"/></a>"
      ]
    },
    {
      "cell_type": "code",
      "execution_count": null,
      "id": "726fbcd7",
      "metadata": {
        "id": "726fbcd7"
      },
      "outputs": [],
      "source": [
        "import tensorflow as tf\n",
        "from keras.preprocessing.image import ImageDataGenerator\n",
        "from tensorflow import keras\n",
        "from keras import Sequential\n",
        "from keras.layers import Dense, Conv2D, MaxPooling2D, Flatten"
      ]
    },
    {
      "cell_type": "code",
      "execution_count": null,
      "id": "a66e992c",
      "metadata": {
        "id": "a66e992c",
        "outputId": "c31f7bd3-5484-42f9-fb4a-edd879e161eb"
      },
      "outputs": [
        {
          "name": "stdout",
          "output_type": "stream",
          "text": [
            "Found 8000 images belonging to 2 classes.\n"
          ]
        }
      ],
      "source": [
        "train_datagen = ImageDataGenerator(rescale = 1./255,\n",
        "                                   shear_range = 0.2,\n",
        "                                   zoom_range = 0.2,\n",
        "                                   horizontal_flip = True)\n",
        "training_set = train_datagen.flow_from_directory('C:/Users/praka/OneDrive/Documents/ML_Practice/dataset/dataset/training_set',\n",
        "                                                 target_size = (64, 64),\n",
        "                                                 batch_size = 32,\n",
        "                                                 class_mode = 'binary')"
      ]
    },
    {
      "cell_type": "code",
      "execution_count": null,
      "id": "303214b7",
      "metadata": {
        "id": "303214b7",
        "outputId": "76fb7236-c187-40ea-e469-675524a82c22"
      },
      "outputs": [
        {
          "name": "stdout",
          "output_type": "stream",
          "text": [
            "Found 2000 images belonging to 2 classes.\n"
          ]
        }
      ],
      "source": [
        "test_datagen = ImageDataGenerator(rescale = 1./255)\n",
        "test_set = test_datagen.flow_from_directory('C:/Users/praka/OneDrive/Documents/ML_Practice/dataset/dataset/test_set',\n",
        "                                            target_size = (64, 64),\n",
        "                                            batch_size = 32,\n",
        "                                            class_mode = 'binary')"
      ]
    },
    {
      "cell_type": "code",
      "execution_count": null,
      "id": "019d9edb",
      "metadata": {
        "id": "019d9edb"
      },
      "outputs": [],
      "source": [
        "cnn = tf.keras.models.Sequential()\n",
        "\n",
        "cnn.add(tf.keras.layers.Conv2D(filters=32, kernel_size=3, activation='relu', input_shape=[64, 64, 3]))\n",
        "\n",
        "cnn.add(tf.keras.layers.MaxPool2D(pool_size=2, strides=2))\n",
        "\n",
        "cnn.add(tf.keras.layers.Conv2D(filters=32, kernel_size=3, activation='relu'))\n",
        "cnn.add(tf.keras.layers.MaxPool2D(pool_size=2, strides=2))\n",
        "\n",
        "cnn.add(tf.keras.layers.Flatten())\n",
        "\n",
        "cnn.add(tf.keras.layers.Dense(units=128, activation='relu'))\n",
        "\n",
        "cnn.add(tf.keras.layers.Dense(units=1, activation='sigmoid'))\n",
        "\n"
      ]
    },
    {
      "cell_type": "code",
      "execution_count": null,
      "id": "56c17b7a",
      "metadata": {
        "id": "56c17b7a",
        "outputId": "ecbbbabc-5c40-43b9-89ed-f6be5fd2a9db"
      },
      "outputs": [
        {
          "name": "stdout",
          "output_type": "stream",
          "text": [
            "Model: \"sequential\"\n",
            "_________________________________________________________________\n",
            " Layer (type)                Output Shape              Param #   \n",
            "=================================================================\n",
            " conv2d (Conv2D)             (None, 62, 62, 32)        896       \n",
            "                                                                 \n",
            " max_pooling2d (MaxPooling2D  (None, 31, 31, 32)       0         \n",
            " )                                                               \n",
            "                                                                 \n",
            " conv2d_1 (Conv2D)           (None, 29, 29, 32)        9248      \n",
            "                                                                 \n",
            " max_pooling2d_1 (MaxPooling  (None, 14, 14, 32)       0         \n",
            " 2D)                                                             \n",
            "                                                                 \n",
            " flatten (Flatten)           (None, 6272)              0         \n",
            "                                                                 \n",
            " dense (Dense)               (None, 128)               802944    \n",
            "                                                                 \n",
            " dense_1 (Dense)             (None, 1)                 129       \n",
            "                                                                 \n",
            "=================================================================\n",
            "Total params: 813,217\n",
            "Trainable params: 813,217\n",
            "Non-trainable params: 0\n",
            "_________________________________________________________________\n"
          ]
        }
      ],
      "source": [
        "cnn.summary()"
      ]
    },
    {
      "cell_type": "code",
      "execution_count": null,
      "id": "dad16e31",
      "metadata": {
        "id": "dad16e31"
      },
      "outputs": [],
      "source": [
        "cnn.compile(optimizer = 'adam', loss = 'binary_crossentropy', metrics = ['accuracy'])"
      ]
    },
    {
      "cell_type": "code",
      "execution_count": null,
      "id": "44c60a8c",
      "metadata": {
        "id": "44c60a8c",
        "outputId": "526485a8-daeb-41d6-b672-f90c3598224d"
      },
      "outputs": [
        {
          "name": "stdout",
          "output_type": "stream",
          "text": [
            "Epoch 1/25\n",
            "250/250 [==============================] - 57s 225ms/step - loss: 0.6748 - accuracy: 0.5815 - val_loss: 0.6302 - val_accuracy: 0.6300\n",
            "Epoch 2/25\n",
            "250/250 [==============================] - 50s 199ms/step - loss: 0.6209 - accuracy: 0.6597 - val_loss: 0.5773 - val_accuracy: 0.7050\n",
            "Epoch 3/25\n",
            "250/250 [==============================] - 49s 194ms/step - loss: 0.5660 - accuracy: 0.7078 - val_loss: 0.5412 - val_accuracy: 0.7410\n",
            "Epoch 4/25\n",
            "250/250 [==============================] - 55s 221ms/step - loss: 0.5277 - accuracy: 0.7389 - val_loss: 0.5182 - val_accuracy: 0.7450\n",
            "Epoch 5/25\n",
            "250/250 [==============================] - 50s 202ms/step - loss: 0.5061 - accuracy: 0.7501 - val_loss: 0.5289 - val_accuracy: 0.7445\n",
            "Epoch 6/25\n",
            "250/250 [==============================] - 51s 204ms/step - loss: 0.4848 - accuracy: 0.7670 - val_loss: 0.4963 - val_accuracy: 0.7605\n",
            "Epoch 7/25\n",
            "250/250 [==============================] - 48s 191ms/step - loss: 0.4759 - accuracy: 0.7716 - val_loss: 0.5237 - val_accuracy: 0.7410\n",
            "Epoch 8/25\n",
            "250/250 [==============================] - 44s 175ms/step - loss: 0.4554 - accuracy: 0.7871 - val_loss: 0.5232 - val_accuracy: 0.7620\n",
            "Epoch 9/25\n",
            "250/250 [==============================] - 45s 181ms/step - loss: 0.4395 - accuracy: 0.7881 - val_loss: 0.4993 - val_accuracy: 0.7720\n",
            "Epoch 10/25\n",
            "250/250 [==============================] - 44s 178ms/step - loss: 0.4253 - accuracy: 0.7970 - val_loss: 0.4850 - val_accuracy: 0.7695\n",
            "Epoch 11/25\n",
            "250/250 [==============================] - 44s 178ms/step - loss: 0.4133 - accuracy: 0.8098 - val_loss: 0.4759 - val_accuracy: 0.7795\n",
            "Epoch 12/25\n",
            "250/250 [==============================] - 46s 183ms/step - loss: 0.4015 - accuracy: 0.8158 - val_loss: 0.5104 - val_accuracy: 0.7645\n",
            "Epoch 13/25\n",
            "250/250 [==============================] - 45s 180ms/step - loss: 0.3872 - accuracy: 0.8215 - val_loss: 0.4583 - val_accuracy: 0.7990\n",
            "Epoch 14/25\n",
            "250/250 [==============================] - 45s 180ms/step - loss: 0.3774 - accuracy: 0.8286 - val_loss: 0.4963 - val_accuracy: 0.7930\n",
            "Epoch 15/25\n",
            "250/250 [==============================] - 45s 179ms/step - loss: 0.3628 - accuracy: 0.8416 - val_loss: 0.4731 - val_accuracy: 0.7970\n",
            "Epoch 16/25\n",
            "250/250 [==============================] - 46s 185ms/step - loss: 0.3527 - accuracy: 0.8411 - val_loss: 0.4577 - val_accuracy: 0.8035\n",
            "Epoch 17/25\n",
            "250/250 [==============================] - 45s 181ms/step - loss: 0.3334 - accuracy: 0.8524 - val_loss: 0.4545 - val_accuracy: 0.8050\n",
            "Epoch 18/25\n",
            "250/250 [==============================] - 45s 180ms/step - loss: 0.3370 - accuracy: 0.8515 - val_loss: 0.5146 - val_accuracy: 0.7930\n",
            "Epoch 19/25\n",
            "250/250 [==============================] - 45s 179ms/step - loss: 0.3051 - accuracy: 0.8660 - val_loss: 0.4868 - val_accuracy: 0.8060\n",
            "Epoch 20/25\n",
            "250/250 [==============================] - 45s 182ms/step - loss: 0.2931 - accuracy: 0.8765 - val_loss: 0.5006 - val_accuracy: 0.8035\n",
            "Epoch 21/25\n",
            "250/250 [==============================] - 47s 186ms/step - loss: 0.2828 - accuracy: 0.8784 - val_loss: 0.5252 - val_accuracy: 0.8065\n",
            "Epoch 22/25\n",
            "250/250 [==============================] - 45s 180ms/step - loss: 0.2787 - accuracy: 0.8830 - val_loss: 0.4771 - val_accuracy: 0.7965\n",
            "Epoch 23/25\n",
            "250/250 [==============================] - 45s 178ms/step - loss: 0.2668 - accuracy: 0.8850 - val_loss: 0.5306 - val_accuracy: 0.7960\n",
            "Epoch 24/25\n",
            "250/250 [==============================] - 44s 175ms/step - loss: 0.2552 - accuracy: 0.8956 - val_loss: 0.5064 - val_accuracy: 0.8035\n",
            "Epoch 25/25\n",
            "250/250 [==============================] - 44s 176ms/step - loss: 0.2277 - accuracy: 0.9036 - val_loss: 0.5576 - val_accuracy: 0.8010\n"
          ]
        }
      ],
      "source": [
        "history = cnn.fit(x = training_set, validation_data = test_set, epochs = 25)"
      ]
    },
    {
      "cell_type": "code",
      "execution_count": null,
      "id": "f2fb21d4",
      "metadata": {
        "id": "f2fb21d4",
        "outputId": "b48a84a9-4abb-4835-a2c0-4f4848e5163a"
      },
      "outputs": [
        {
          "data": {
            "image/png": "[encoded data removed]",
            "text/plain": [
              "<Figure size 432x288 with 1 Axes>"
            ]
          },
          "metadata": {
            "needs_background": "light"
          },
          "output_type": "display_data"
        }
      ],
      "source": [
        "import matplotlib.pyplot as plt\n",
        "plt.plot(history.history['accuracy'], color = 'red', label = 'train')\n",
        "plt.plot(history.history['val_accuracy'], color = 'blue', label = 'validation')\n",
        "plt.legend()\n",
        "plt.show()"
      ]
    },
    {
      "cell_type": "code",
      "execution_count": null,
      "id": "7b4e8914",
      "metadata": {
        "id": "7b4e8914",
        "outputId": "691ea328-bfa9-4e2c-e273-e0347f89279a"
      },
      "outputs": [
        {
          "data": {
            "image/png": "[encoded data removed]",
            "text/plain": [
              "<Figure size 432x288 with 1 Axes>"
            ]
          },
          "metadata": {
            "needs_background": "light"
          },
          "output_type": "display_data"
        }
      ],
      "source": [
        "plt.plot(history.history['loss'], color = 'red', label = 'train')\n",
        "plt.plot(history.history['val_loss'], color = 'blue', label = 'validation')\n",
        "plt.legend()\n",
        "plt.show()"
      ]
    }
  ],
  "metadata": {
    "kernelspec": {
      "display_name": "Python 3 (ipykernel)",
      "language": "python",
      "name": "python3"
    },
    "language_info": {
      "codemirror_mode": {
        "name": "ipython",
        "version": 3
      },
      "file_extension": ".py",
      "mimetype": "text/x-python",
      "name": "python",
      "nbconvert_exporter": "python",
      "pygments_lexer": "ipython3",
      "version": "3.8.10"
    },
    "colab": {
      "provenance": [],
      "include_colab_link": true
    }
  },
  "nbformat": 4,
  "nbformat_minor": 5
}